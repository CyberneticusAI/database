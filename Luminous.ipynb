{
 "cells": [
  {
   "cell_type": "markdown",
   "id": "8094c5ff-23ab-46b1-9a9e-fe355e69520f",
   "metadata": {},
   "source": [
    "1. Question Answering System (Simplified)\r\n"
   ]
  },
  {
   "cell_type": "code",
   "execution_count": null,
   "id": "4c7a95a8-6f99-41fc-a8e1-ae965c789d97",
   "metadata": {},
   "outputs": [],
   "source": [
    "def answer_question(question):\n",
    "    # Assume we have a knowledge base stored as a dictionary for simplicity\n",
    "    knowledge_base = {\n",
    "        \"What is the capital of France?\": \"Paris\",\n",
    "        \"Who painted the Mona Lisa?\": \"Leonardo da Vinci\"\n",
    "    }\n",
    "    if question in knowledge_base:\n",
    "        return knowledge_base[question]\n",
    "    else:\n",
    "        # Here we could add code to search external databases or APIs\n",
    "        return \"I'm not sure about that.\""
   ]
  },
  {
   "cell_type": "markdown",
   "id": "22a9c1d7-77ad-4dfe-8a6c-7e83c153781e",
   "metadata": {},
   "source": [
    "2. Creative Idea Generation (Random Selection from a Pre - defined Set for Illustration)\r\n"
   ]
  },
  {
   "cell_type": "code",
   "execution_count": null,
   "id": "20b91174-be45-4401-9222-380e36ed84a2",
   "metadata": {},
   "outputs": [],
   "source": [
    "import random\n",
    "\n",
    "\n",
    "def generate_creative_idea(topic):\n",
    "    ideas = {\n",
    "        \"art\": [\"Create a mixed - media piece using recycled materials\", \"Try pointillism with a modern twist\"],\n",
    "        \"technology\": [\"Develop an app that uses augmented reality for home decorating\", \"Design a new type of wearable fitness tracker\"]\n",
    "    }\n",
    "    if topic in ideas:\n",
    "        return random.choice(ideas[topic])\n",
    "    else:\n",
    "        return \"Let me think about it more.\""
   ]
  },
  {
   "cell_type": "code",
   "execution_count": null,
   "id": "19e496a0-be06-4a01-bc95-175cb42f8d31",
   "metadata": {},
   "outputs": [],
   "source": [
    "3. Real - Time Data Scraping for Information (Using a Hypothetical News API)"
   ]
  },
  {
   "cell_type": "code",
   "execution_count": null,
   "id": "2b542c79-27c3-4540-b318-b29c0b47fb0b",
   "metadata": {},
   "outputs": [],
   "source": [
    "import requests\n",
    "\n",
    "\n",
    "def get_latest_news(category):\n",
    "    api_url = f\"https://newsapi.org/v2/top - headlines?category={category}&apiKey=YOUR_API_KEY\"\n",
    "    response = requests.get(api_url)\n",
    "    if response.status_code == 200:\n",
    "        news_data = response.json()\n",
    "        headlines = [article['title'] for article in news_data['articles']]\n",
    "        return headlines\n",
    "    else:\n",
    "        return []"
   ]
  }
 ],
 "metadata": {
  "kernelspec": {
   "display_name": "Python 3 (ipykernel)",
   "language": "python",
   "name": "python3"
  },
  "language_info": {
   "codemirror_mode": {
    "name": "ipython",
    "version": 3
   },
   "file_extension": ".py",
   "mimetype": "text/x-python",
   "name": "python",
   "nbconvert_exporter": "python",
   "pygments_lexer": "ipython3",
   "version": "3.12.4"
  }
 },
 "nbformat": 4,
 "nbformat_minor": 5
}
